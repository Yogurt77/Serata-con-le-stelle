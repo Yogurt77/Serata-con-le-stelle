{
 "cells": [
  {
   "attachments": {},
   "cell_type": "markdown",
   "metadata": {},
   "source": [
    "\n",
    "<h1 style=\"text-align: center;\">\n",
    "    Una serata con le stelle\n",
    "</h1>\n",
    "<h2 style=\"text-align: center;\">\n",
    "    attività di Palo 2 Giugno 2023 GU/GD\n",
    "</h2>\n",
    "<p style=\"text-align: center;\">\n",
    "        Dott. Ing. Youri Mazzina - Astrofilo\n",
    "</p> \n",
    "<p style=\"text-align: center;\">\n",
    "    <img src=\"christ_in_beginning_was_word_timothy.jpeg\" style=\"width: auto; height: auto;\"/><br><br>   \n",
    "    \"In the Beginning was the Word\" - by Eva Koleva Timothy\n",
    "</p> \n"
   ]
  },
  {
   "attachments": {},
   "cell_type": "markdown",
   "metadata": {},
   "source": [
    "<table style=\"border-collapse: collapse; border: none; text-align: left; margin-left:auto; margin-right:auto; overflow-x:auto;\">\n",
    "    <tr style=\"border: none;\">\n",
    "        <td style=\"border: none;\">\n",
    "            <img src=\"jesus christ.jpg\" style=\"width: auto; height: auto;\"/><br><br>\n",
    "        </td>\n",
    "         <td style=\"border: none;\">\n",
    "            <h2>\n",
    "                Mose 1:3-4, 32-33, 37-39\n",
    "            </h2>\n",
    "            <p>\n",
    "                3 E Dio parlò a Mosè, dicendo: Ecco, Io sono il Signore Dio Onnipotente, e Infinito è il mio nome; poiché sono senza principio di giorni o fine d’anni, e non è ciò infinito?<br>\n",
    "                4 Ed ecco, tu sei mio figlio; guarda dunque, e ti mostrerò le opere delle mie mani, ma non tutte, poiché le mie opere sono senza fine, e anche le mie parole, poiché non cessano mai.<br>\n",
    "                32 E mediante la parola del mio potere le ho create, che è il mio Figlio Unigenito, che è pieno di grazia e di verità.<br>\n",
    "                33 E mondi innumerevoli ho creato; e anch’essi ho creato per un mio proprio scopo; e mediante il Figlio li ho creati, che è il mio Unigenito.<br>\n",
    "                37 E il Signore Iddio parlò a Mosè, dicendo: I cieli sono molti e non possono essere contati dall’uomo; ma sono contati per me, poiché sono miei.<br>\n",
    "                38 E quando una terra passerà, con i suoi cieli, così pure ne verrà un’altra; e non v’è fine alle mie opere, né alle mie parole.<br>\n",
    "                <b>39 Poiché ecco, questa è la mia opera e la mia gloria: fare avverare l’immortalità e la vita eterna dell’uomo.<b><br>\n",
    "            </P>\n",
    "        </td>\n",
    "    </tr>\n",
    "    \n",
    "</table>\n"
   ]
  },
  {
   "attachments": {},
   "cell_type": "markdown",
   "metadata": {},
   "source": [
    "<h2> Obiettivo di questa serata: </h2>\n",
    "<ul>\n",
    "  <li>Conoscere l'astronomia</li>\n",
    "  <li>Vedere con propri occhi alcune delle creazione del Signore, oltre a questa terra</li>\n",
    "  <ul>\n",
    "    <li>Pianeti del nostro sistema solare</li>\n",
    "    <li>Orientarsi nella volta celeste</li>\n",
    "    <li>Luminosità</li>\n",
    "    <li>Galassie</li>\n",
    "    <li>Nebulosi</li>\n",
    "  </ul> \n",
    "  <li>Cercare Gesù Cristo in ogni cosa</li>\n",
    "</ul> \n"
   ]
  },
  {
   "attachments": {},
   "cell_type": "markdown",
   "metadata": {},
   "source": [
    "<h2> Premessa </h2>\n",
    "<b> Nulla di cio che dirò oggi è necessariamente vero e definitivo! La scienze è ancora alla ricerca della verità ed io sono solo un osservatore. </b>"
   ]
  },
  {
   "attachments": {},
   "cell_type": "markdown",
   "metadata": {},
   "source": [
    "<h2> Storia e scienze, alla ricerca della verità</h2>\n",
    "\n",
    "<table style=\"border-collapse: collapse; border: none; overflow-x:auto;\">\n",
    "    <tr style=\"border: none, text-align: center;\">\n",
    "        <td style=\"border: none; text-align: center;\">\n",
    "            Calendadario e osservatorio, Inghilterra 1550 a.C. <br> <br>\n",
    "            <img src=\"stonehenge.jpg\"/>\n",
    "        </td>\n",
    "         <td style=\"border: none; text-align: center;\">\n",
    "            Disco di Nebra, Germania 1600 a.C. <br> <br>\n",
    "            <img src=\"nebra-sky-disk.jpg\"/> \n",
    "        </td>\n",
    "    </tr>\n",
    "    <tr style=\"border: none, text-align: center;\">\n",
    "        <td style=\"border: none; text-align: center;\">\n",
    "            Osservatorio Maia a Chichen Itza, attuale Messico circa 800 a.C <br> <br>\n",
    "            <img src=\"mayan-observatory.jpg\"/>\n",
    "        </td>\n",
    "         <td style=\"border: none; text-align: center;\">\n",
    "            Artefatto polinesiano <br> <br>\n",
    "            <img src=\"polynesians.jpg\"/>\n",
    "        </td>\n",
    "    </tr>\n",
    "</table>\n"
   ]
  },
  {
   "attachments": {},
   "cell_type": "markdown",
   "metadata": {},
   "source": [
    "<h3> Greci: </h3>\n",
    "<ul>\n",
    "  <li>Platone (circa 400 a.C)</li>\n",
    "  <li>Aristotele (circa 400 a.C) - geocentrico, la terra al centro dell'universo</li>\n",
    "  <li>Eratòstene di Cirene (circa 240 a.C) - misura quasi perfetta della terra sferica</li>\n",
    "</ul> "
   ]
  },
  {
   "attachments": {},
   "cell_type": "markdown",
   "metadata": {},
   "source": [
    "\n",
    "<table style=\"border-collapse: collapse; border: none; overflow-x:auto;\">\n",
    "    <tr style=\"border: none, text-align: center;\">\n",
    "        <td style=\"border: none; text-align: center;\">\n",
    "            <img src=\"10hours.png\"/>\n",
    "        <td style=\"border: none; text-align: center;\"> \n",
    "            Rivoluzione di Marte <br><br>   \n",
    "            <img src=\"ciclo_marte.jpg\"/>\n",
    "    </tr>\n",
    "</table>"
   ]
  },
  {
   "attachments": {},
   "cell_type": "markdown",
   "metadata": {},
   "source": [
    "<h3>Verso la verità</h3>\n",
    "<ul>\n",
    "  <li>Copernico (1473 - 1543 d.C) - eliocentrico, il sole al centro dell'universo</li>\n",
    "  <li>Keplero (1571 - 1630 d.C) - leggi che regolano i movimenti dei pianeti</li>\n",
    "  <li>Galileo (1564 - 1642 d.C) - metodo scientifico, basi della cinematica della fisica classica e inventore del telescopio</li>\n",
    "  <li>Sir. Isaac Newton (1642 - 1726 d.C) - legge gravitazionale universale, analisi matematica, telescopio rifrattore</li>\n",
    "  <li>Albert Einstein (1879 - 1955 d.C) - teoria della relatività, fisica moderna</li>\n",
    "</ul>\n",
    "\n"
   ]
  },
  {
   "attachments": {},
   "cell_type": "markdown",
   "metadata": {},
   "source": [
    "<h1>Pianeti del nostro sistema solare</h1>\n",
    "\n",
    "<p style=\"text-align: center;\">\n",
    "    <img src=\"pianeti.jpg\"/>\n",
    "</p>\n",
    "\n",
    "<table style=\"border-collapse: collapse; border: none; margin-left: auto; margin-right: auto; overflow-x:auto;\">\n",
    "    <tr style=\"border: none, text-align: center;\">\n",
    "        <td style=\"border: none; text-align: center;\">\n",
    "            <img src=\"pianeti_inferiori.jpg\"/>\n",
    "        </td>\n",
    "        <td style=\"border: none; text-align: left;\">\n",
    "            Inferiori:<br>\n",
    "            <ul style=\"text-align: left; display: inline-block;\">        \n",
    "                <li>Mercurio</li>\n",
    "                <li>Venere</li>\n",
    "            </ul>\n",
    "            <br>Superiori:<br>\n",
    "            <ul style=\"text-align: left; display: inline-block;\"> \n",
    "                <li>Marte</li>\n",
    "                <li>Giove</li>\n",
    "                <li>Saturno</li>\n",
    "                <li>Urano</li>\n",
    "                <li>Nettuno</li>\n",
    "                <li>Plutone (Pianeta Nano)</li> \n",
    "            </ul>\n",
    "        </td>\n",
    "    </tr>\n",
    "</table>\n",
    "\n",
    "<table style=\"border-collapse: collapse; border: none; overflow-x:auto;\">\n",
    "    <tr style=\"border: none, text-align: center;\">\n",
    "        <td style=\"border: none; text-align: center;\">\n",
    "            <img src=\"marte.png\"/>\n",
    "        </td>\n",
    "         <td style=\"border: none; text-align: center;\">\n",
    "            <h2>Marte, il pianeta rosso</h2>\n",
    "            <br>\n",
    "            distanza: 1,74 UA    \n",
    "        </td>\n",
    "    </tr>\n",
    "</table>"
   ]
  },
  {
   "cell_type": "code",
   "execution_count": 79,
   "metadata": {},
   "outputs": [
    {
     "name": "stdout",
     "output_type": "stream",
     "text": [
      "260300295.03017998 Km\n"
     ]
    }
   ],
   "source": [
    "def ua2km(UA):\n",
    "    return UA * 149597870.707\n",
    "\n",
    "# Marte 1,74 UA\n",
    "print(ua2km(1.74), \"Km\")"
   ]
  },
  {
   "attachments": {},
   "cell_type": "markdown",
   "metadata": {},
   "source": [
    "<table style=\"border-collapse: collapse; border: none; overflow-x:auto;\">\n",
    "    <tr style=\"border: none, text-align: center;\">\n",
    "        <td style=\"border: none; text-align: center;\">\n",
    "            <img src=\"giove.jpg\"/>\n",
    "        </td>\n",
    "         <td style=\"border: none; text-align: center;\">\n",
    "            <h2>Giove il gigante</h2>\n",
    "            <br>\n",
    "            distanza: 5,92 UA    \n",
    "        </td>\n",
    "    </tr>\n",
    "</table>"
   ]
  },
  {
   "cell_type": "code",
   "execution_count": 80,
   "metadata": {},
   "outputs": [
    {
     "name": "stdout",
     "output_type": "stream",
     "text": [
      "885619394.5854399 Km\n"
     ]
    }
   ],
   "source": [
    "# Giove 5,92 UA\n",
    "print(ua2km(5.92), \"Km\")"
   ]
  },
  {
   "attachments": {},
   "cell_type": "markdown",
   "metadata": {},
   "source": [
    "<table style=\"border-collapse: collapse; border: none; overflow-x:auto;\">\n",
    "    <tr style=\"border: none, text-align: center;\">\n",
    "        <td style=\"border: none; text-align: center;\">\n",
    "            <img src=\"saturno.jfif\"/>\n",
    "        </td>\n",
    "         <td style=\"border: none; text-align: center;\">\n",
    "            <h2>Saturno e i suoi anelli</h2>\n",
    "            <br>\n",
    "            distanza: 10,19 UA    \n",
    "        </td>\n",
    "    </tr>\n",
    "</table>"
   ]
  },
  {
   "cell_type": "code",
   "execution_count": 81,
   "metadata": {},
   "outputs": [
    {
     "name": "stdout",
     "output_type": "stream",
     "text": [
      "1524402302.5043297 Km\n"
     ]
    }
   ],
   "source": [
    "# Saturno 10,19 UA\n",
    "print(ua2km(10.19), \"Km\")"
   ]
  },
  {
   "attachments": {},
   "cell_type": "markdown",
   "metadata": {},
   "source": [
    "<h1>Il nostro Sole</h1>\n",
    "\n",
    "<p style=\"text-align: center;\">\n",
    "    <img src=\"sole.jpg\"/>\n",
    "</p>"
   ]
  },
  {
   "cell_type": "code",
   "execution_count": 82,
   "metadata": {},
   "outputs": [
    {
     "name": "stdout",
     "output_type": "stream",
     "text": [
      "149597870.707 Km\n"
     ]
    }
   ],
   "source": [
    "# Sole 1 UA\n",
    "print(ua2km(1), \"Km\")"
   ]
  },
  {
   "cell_type": "code",
   "execution_count": 83,
   "metadata": {},
   "outputs": [
    {
     "name": "stdout",
     "output_type": "stream",
     "text": [
      "499.0047838595059 secondi\n",
      "8.31674639765843 minuti\n"
     ]
    }
   ],
   "source": [
    "# Velocità della luce è di 299792458 m/s, circa 300000 Km/s\n",
    "def get_tempo_luce(UA):\n",
    "    return ua2km(UA) * 1000  / 299792458\n",
    "\n",
    "# Tempo necessario per la luce del sole per arrivare sulla terra:\n",
    "print(get_tempo_luce(1), \"secondi\")\n",
    "print(get_tempo_luce(1)/60, \"minuti\")"
   ]
  },
  {
   "attachments": {},
   "cell_type": "markdown",
   "metadata": {},
   "source": [
    "<h1>Quanto tempo impiega la luce dal sole ad arrivare nei pianeti del nostro sistema solare?</h1>"
   ]
  },
  {
   "cell_type": "code",
   "execution_count": 84,
   "metadata": {},
   "outputs": [
    {
     "name": "stdout",
     "output_type": "stream",
     "text": [
      "Marte:  14.47113873192567 minuti\n",
      "Giove:  49.235138674137914 minuti\n",
      "Saturno:  84.7476457921394 minuti\n",
      "Plutone:  287.50992296705203 minuti\n"
     ]
    }
   ],
   "source": [
    "# Distanza tra sole e pianeti del nostro sistema solare\n",
    "print(\"Marte: \", get_tempo_luce(1.74)/60, \"minuti\")\n",
    "print(\"Giove: \", get_tempo_luce(5.92)/60, \"minuti\")\n",
    "print(\"Saturno: \", get_tempo_luce(10.19)/60, \"minuti\")\n",
    "print(\"Plutone: \", get_tempo_luce(34.57)/60, \"minuti\")\n"
   ]
  },
  {
   "attachments": {},
   "cell_type": "markdown",
   "metadata": {},
   "source": [
    "<h1>E per arrivare alla stella più vicino a noi?</h1>\n",
    "<h2>Proxima Centauri è a circa 4.24 [AL] (Anni Luci)</h2>"
   ]
  },
  {
   "cell_type": "code",
   "execution_count": 85,
   "metadata": {},
   "outputs": [
    {
     "name": "stdout",
     "output_type": "stream",
     "text": [
      "1 anno luce = 63241.0770813071 UA\n",
      "Proxima Centauri dista 268001.9196722825 UA, che corrispondono a 2228904.0 minuti\n"
     ]
    }
   ],
   "source": [
    "# Un anno solare sono: 365.25 giorni \n",
    "def AL2UA(AL):\n",
    "    return (AL*365*24*60*60 + 6*60*60) / get_tempo_luce(1)\n",
    "\n",
    "print(\"1 anno luce =\", AL2UA(1), \"UA\")\n",
    "print(\"Proxima Centauri dista\", AL2UA(4.24), \"UA,\", \"che corrispondono a\", get_tempo_luce(AL2UA(4.24))/60, \"minuti\")"
   ]
  },
  {
   "attachments": {},
   "cell_type": "markdown",
   "metadata": {},
   "source": [
    "<h1>Esiste qualcosa più veloce della luce?</h1>\n",
    "la preghiera è immediata, la risposta dello Spirito è instantanea"
   ]
  },
  {
   "attachments": {},
   "cell_type": "markdown",
   "metadata": {},
   "source": [
    "<h1>Coordinate celesti</h1>\n",
    "\n",
    "<p style=\"text-align: center;\">\n",
    "    <img src=\"volta_celeste.jpg\"/>\n",
    "</p>\n",
    "\n",
    "<ul>\n",
    "    <li>Primo sistema o sistema azimutale - piano dell'osservatore</li>\n",
    "    <li>Secondo sistema o sistema equatoriale - piano e proiezione dell'equatore terrestre sulla volta celeste</li>\n",
    "    <li>Sistema eclittico - piano di rivoluzione terrestre attorno al sole (non più utilizzato)</li>\n",
    "    <li>Coordinate galattiche - piano della nostra galassia</li>\n",
    "</ul>\n",
    "\n",
    "<h2>Sistema azimutale</h2>\n",
    "<table style=\"border-collapse: collapse; border: none; overflow-x:auto;\">\n",
    "    <tr style=\"border: none, text-align: center;\">\n",
    "        <td style=\"border: none; text-align: center;\">\n",
    "            <img src=\"azimut.png\"/>\n",
    "        </td>\n",
    "         <td style=\"border: none; text-align: left;\">\n",
    "            In riferimento al meridiano locale (polo Nord terrestre) e il piano dell'orizzonte<br><br>\n",
    "            E' un sistema molto facile da capire ma poco pratico perchè legato al solo al punto di vista dell'osservatore.\n",
    "            <ul>\n",
    "                <li>Azimut [°]</li>\n",
    "                <li>Altezza [°]</li>\n",
    "            </ul>\n",
    "        </td>\n",
    "    </tr>\n",
    "</table>\n",
    "\n"
   ]
  },
  {
   "attachments": {},
   "cell_type": "markdown",
   "metadata": {},
   "source": [
    "<h2>Sistema equtoriale</h2>\n",
    "<table style=\"border-collapse: collapse; border: none; overflow-x:auto;\">\n",
    "    <tr style=\"border: none, text-align: center;\">\n",
    "        <td style=\"border: none; text-align: center;\">\n",
    "            <img src=\"equatoriale.jpg\"/>\n",
    "        </td>\n",
    "         <td style=\"border: none; text-align: left;\">\n",
    "            <b>E' indipendente dalla posizione dell'osservatore.</b><br>\n",
    "            Utilizza due riferimenti:<br>\n",
    "            <ul>\n",
    "                <li>Equatore terrestre</li>\n",
    "                <li>Punto Gamma o Vernale - corrisponde all'equinozio di primavera</li>\n",
    "            </ul>\n",
    "            Le coordinate si misurano in questa maniera:<br>\n",
    "            <ul>\n",
    "                <li>RA oppure &alpha; - Ascensione retta [ore, minuti, secondi]</li>\n",
    "                <li>DEC oppure &delta; - Declinazione [°, minuti, secondi] </li>\n",
    "            </ul>\n",
    "        </td>\n",
    "    </tr>\n",
    "</table>"
   ]
  },
  {
   "cell_type": "code",
   "execution_count": 86,
   "metadata": {},
   "outputs": [
    {
     "name": "stdout",
     "output_type": "stream",
     "text": [
      "23 ore, 12 minuti, 6 secondi ->  348.025 °\n",
      "22°, 57 archi minuti, 18 archi secondi ->  22.955 °\n"
     ]
    }
   ],
   "source": [
    "# RA Conversione hms/gradi sapendo che 1 ora => 15°\n",
    "def hms2dec(hours, minutes, seconds):\n",
    "  return 15 * (hours + minutes/60 + seconds / 3600)\n",
    "\n",
    "# DEC Conversione dms/gradi\n",
    "def dms2dec(degree, arcminutes, arcseconds):\n",
    "  if (degree > 0):\n",
    "    return degree + arcminutes / 60 + arcseconds / 3600\n",
    "  else:\n",
    "    return -1 * (-degree + arcminutes / 60 + arcseconds / 3600)\n",
    "\n",
    "print(\"23 ore, 12 minuti, 6 secondi -> \", hms2dec(23, 12, 6), \"°\")\n",
    "print(\"22°, 57 archi minuti, 18 archi secondi -> \", dms2dec(22, 57, 18), \"°\")"
   ]
  },
  {
   "attachments": {},
   "cell_type": "markdown",
   "metadata": {},
   "source": [
    "<h1>Calcolo delle distanze angolari</h1>\n",
    "\n",
    "<p style=\"text-align: center;\">\n",
    "    <img src=\"distanze.jpg\"/>\n",
    "</p>"
   ]
  },
  {
   "cell_type": "code",
   "execution_count": 87,
   "metadata": {},
   "outputs": [
    {
     "name": "stdout",
     "output_type": "stream",
     "text": [
      "0.0 °\n"
     ]
    }
   ],
   "source": [
    "# Formula di haversine per il calcolo della distanza angolare di coordinate equatoriali\n",
    "# d = 2arcsin sqrt(sin2|δ1−δ2|/2 + cosδ1 cosδ2 sin2|α1−α2|/2)\n",
    "import numpy as np\n",
    "\n",
    "def angular_dist_equatoriale(ra1, de1, ra2, de2):\n",
    "    r1 = np.radians(ra1)\n",
    "    r2 = np.radians(ra2)\n",
    "    d1 = np.radians(de1)\n",
    "    d2 = np.radians(de2)\n",
    "    a = np.sin(abs(d1-d2) / 2)**2\n",
    "    b = np.cos(d1) * np.cos(d2) * np.sin(np.abs(r1 - r2)/2)**2\n",
    "    d = 2*np.arcsin(np.sqrt(a + b))\n",
    "    return np.degrees(d)\n",
    "\n",
    "ra1 = hms2dec(23, 12, 6)\n",
    "de1 = dms2dec(22, 57, 18)\n",
    "ra2 = ra1\n",
    "de2 = de1\n",
    "print(angular_dist_equatoriale(ra1, de1, ra2, de2), \"°\")"
   ]
  },
  {
   "attachments": {},
   "cell_type": "markdown",
   "metadata": {},
   "source": [
    "<h1>Quanti gradi angolari ci sono tra queste due stelle?</h2>\n",
    "\n",
    "<p style=\"text-align: center;\">\n",
    "    <img src=\"distanze2.jpg\"/>\n",
    "</p>"
   ]
  },
  {
   "cell_type": "code",
   "execution_count": 88,
   "metadata": {},
   "outputs": [
    {
     "name": "stdout",
     "output_type": "stream",
     "text": [
      "Distanza tra Stella Polare e Dubhe è 28.708671317691657 °\n"
     ]
    }
   ],
   "source": [
    "# Stella Polare (Orsa Minore)\n",
    "ra1 = hms2dec(2, 59, 8.6)\n",
    "de1 = dms2dec(89, 21, 42.5)\n",
    "# Stella Dubhe, binaria (Orsa Maggiore)\n",
    "ra2 = hms2dec(11, 5, 10.4)\n",
    "de2 = dms2dec(61, 37, 46.5)\n",
    "\n",
    "print(\"Distanza tra Stella Polare e Dubhe è\", angular_dist_equatoriale(ra1, de1, ra2, de2), \"°\")"
   ]
  },
  {
   "attachments": {},
   "cell_type": "markdown",
   "metadata": {},
   "source": [
    "<h1>Circumpolari vs Occidui</h1>\n",
    "\n",
    "<p style=\"text-align: center;\">\n",
    "    <img src=\"circumpolari.jpg\"/>\n",
    "</p>"
   ]
  },
  {
   "attachments": {},
   "cell_type": "markdown",
   "metadata": {},
   "source": [
    "<h1>Luminosità</h1>\n",
    "Come definire la luminosità di una stella rispetto ad un altra? <br>\n",
    "La luminosità dipende da diversi fattori:\n",
    "<ul>\n",
    "    <li>distanza da noi</li>\n",
    "    <li>colore</li>\n",
    "    <li>calore</li>\n",
    "    <li>massa</li>\n",
    "</ul>\n",
    "\n",
    "Esistono due tipologie di metodologia per definire la brillantezza di una stella:\n",
    "\n",
    "<ul>\n",
    "    <li>magnetudine apperante (in origine con Ipparco, poi ottimizzata)</li>\n",
    "    <li>magnetudine assoluta</li>\n",
    "</ul>\n",
    "\n",
    "<h2>Magnetudine apparente m vs Magnetudine assoluta M</h2>\n",
    "Utilizza come riferimento la stella Vega nella costellazione del Lyra per definire la luminosità di tutte le altre stelle\n",
    "<table style=\"border-collapse: collapse; border: none; overflow-x:auto;\">\n",
    "    <tr style=\"border: none, text-align: center;\">\n",
    "        <td style=\"border: none; text-align: center;\">\n",
    "            <img src=\"vega.jpg\" style=\"width: auto; height: auto;\"/><br><br>\n",
    "        </td>\n",
    "         <td style=\"border: none; text-align: left;\">\n",
    "           distanza: 25.4 a.l<br>\n",
    "           Magnitudine apprante: 0.03<br>\n",
    "           Stella variabile\n",
    "        </td>\n",
    "    </tr>\n",
    "</table>\n"
   ]
  },
  {
   "cell_type": "code",
   "execution_count": 89,
   "metadata": {},
   "outputs": [
    {
     "name": "stdout",
     "output_type": "stream",
     "text": [
      "Il Sole appare  12460670191.231245  più luminoso di Sirio in termine di magnetudine apparente\n"
     ]
    }
   ],
   "source": [
    "# Magnitudine apparente del sole è m_sole = -26,8\n",
    "# Magnitudine apparente di Sirio è m_sirio = -1,44\n",
    "\n",
    "def rap_flussi(m1, m2):\n",
    "    # (m1 - m2) = - 2.512 Log (b1/b2)\n",
    "    # b1, b2 sono la brillantezza o flusso\n",
    "    # b1/b2 = 10^((m1-m2)/(-2.512))\n",
    "    return 10 **((m1 - m2)/ (-2.512))\n",
    "\n",
    "print(\"Il Sole appare \", rap_flussi(-26.8, -1.44), \" più luminoso di Sirio in termine di magnetudine apparente\")\n",
    "\n",
    "# in realtà, Sirio è molto più luminoso del sole a parità di distanza\n"
   ]
  },
  {
   "attachments": {},
   "cell_type": "markdown",
   "metadata": {},
   "source": [
    "<h3>Sirio</h3>\n",
    "<table style=\"border-collapse: collapse; border: none; overflow-x:auto;\">\n",
    "    <tr style=\"border: none, text-align: center;\">\n",
    "        <td style=\"border: none; text-align: center;\">\n",
    "            <img src=\"sirio.jpg\" style=\"width: auto; height: auto;\"/><br><br>\n",
    "        </td>\n",
    "         <td style=\"border: none; text-align: left;\">\n",
    "           Distanza: 8,6 a.l<br>\n",
    "           Magnitudine apprante: -1,44<br>\n",
    "           Stella doppia (Sirio B è una nana bianca, Sirio A è stella principale)\n",
    "        </td>\n",
    "    </tr>\n",
    "</table>"
   ]
  },
  {
   "cell_type": "code",
   "execution_count": 90,
   "metadata": {},
   "outputs": [
    {
     "name": "stdout",
     "output_type": "stream",
     "text": [
      "Magnetudine assoluta di Sirio M_Sirio =  1.4546346050764303\n",
      "Magnetudine assoluta di Sole M_Sole =  4.772127705633505\n",
      "Il Sirio è  20.92464417071789  più brillante del Sole in termini di mangitudine assoluta\n"
     ]
    }
   ],
   "source": [
    "# Calcolo della magnitudine assoluta\n",
    "import math\n",
    "\n",
    "def M_assoluta(m, d):\n",
    "    return m - (5 * math.log10(d)) + 5\n",
    "\n",
    "def UA2PARSEC(d):\n",
    "    return d/206265\n",
    "def AL2PARSEC(d):\n",
    "    return d/3.26156\n",
    "\n",
    "print(\"Magnetudine assoluta di Sirio M_Sirio = \", M_assoluta(-1.44, AL2PARSEC(8.6)))\n",
    "print(\"Magnetudine assoluta di Sole M_Sole = \", M_assoluta(-26.8, UA2PARSEC(1)))\n",
    "\n",
    "print(\"Il Sirio è \", rap_flussi(M_assoluta(-1.44, AL2PARSEC(8.6)), M_assoluta(-26.8, UA2PARSEC(1))), \" più brillante del Sole in termini di mangitudine assoluta\")\n"
   ]
  },
  {
   "attachments": {},
   "cell_type": "markdown",
   "metadata": {},
   "source": [
    "<h3>Massa, temperatura, colore</h3>\n",
    "\n",
    "<table style=\"border-collapse: collapse; border: none; overflow-x:auto;\">\n",
    "    <tr style=\"border: none, text-align: center;\">\n",
    "        <td style=\"border: none; text-align: center;\">\n",
    "            <img src=\"solar_unite.jpg\" style=\"width: auto; height: auto;\"/><br><br>\n",
    "        </td>\n",
    "         <td style=\"border: none; text-align: left;\">\n",
    "        </td>\n",
    "    </tr>\n",
    "</table>"
   ]
  },
  {
   "attachments": {},
   "cell_type": "markdown",
   "metadata": {},
   "source": [
    "<h2>Evoluzione delle stelle</h2>\n",
    "\n",
    "<p style=\"text-align: center;\">\n",
    "    <img src=\"evoluzione_stelle.jpg\" style=\"width: auto; height: auto;\"/><br><br>   \n",
    "</p> \n",
    "\n",
    "<h3>Tipi di stelle</h3>\n",
    "\n",
    "<p style=\"text-align: center;\">\n",
    "    <img src=\"confronto_stelle.jpg\" style=\"width: auto; height: auto;\"/><br><br>   \n",
    "</p> \n",
    "\n",
    "<table style=\"border-collapse: collapse; border: none; overflow-x:auto;\">\n",
    "    <tr style=\"border: none, text-align: center;\">\n",
    "        <td style=\"border: none; text-align: center;\">\n",
    "            <img src=\"orione.jpg\" style=\"width: auto; height: auto;\"/><br><br>\n",
    "        </td>\n",
    "         <td style=\"border: none; text-align: left;\">\n",
    "            <h3>Costellazione di Orione</h3>\n",
    "            <ul>\n",
    "                <li>Bellatrix - Stella Variabile</li>\n",
    "                <li>Betelgeuse - Stella Super gigante rossa</li>\n",
    "                <li>Rigel - Stella Super gigante blu</li>\n",
    "            </ul>\n",
    "        </td>\n",
    "    </tr>\n",
    "</table>\n",
    "\n",
    "<table style=\"border-collapse: collapse; border: none; overflow-x:auto;\">\n",
    "    <tr style=\"border: none, text-align: center;\">\n",
    "        <td style=\"border: none; text-align: center;\">\n",
    "            <img src=\"scorpione.jpg\" style=\"width: auto; height: auto;\"/><br><br>\n",
    "        </td>\n",
    "         <td style=\"border: none; text-align: left;\">\n",
    "            <h3>Costellazione dello scorpione</h3>\n",
    "            <ul>\n",
    "                <li>Anatares - Stella Super gigante rossa</li>\n",
    "            </ul>\n",
    "        </td>\n",
    "    </tr>\n",
    "</table>\n"
   ]
  },
  {
   "attachments": {},
   "cell_type": "markdown",
   "metadata": {},
   "source": [
    "<h1>La nostra galassia - la via lattea</h1>\n",
    "<p style=\"text-align: center;\">\n",
    "    <img src=\"via_lattea.jpg\"/>\n",
    "</p>"
   ]
  },
  {
   "attachments": {},
   "cell_type": "markdown",
   "metadata": {},
   "source": [
    "<table style=\"border-collapse: collapse; border: none; overflow-x:auto;\">\n",
    "    <tr style=\"border: none, text-align: center;\">\n",
    "        <td style=\"border: none; text-align: center;\">\n",
    "            <img src=\"via_lattea_alto.jpg\"/>\n",
    "        </td>\n",
    "        <td style=\"border: none; text-align: left;\">\n",
    "            <ul>\n",
    "                <li>Diametro del disco: 100000 a.l (30000 [pc] - parsec)</li>\n",
    "                <li>Profondità: 1000 a.l (300 pc)</li>\n",
    "                <li>Totale stelle: 400 miliardi</li>\n",
    "            </ul>      \n",
    "        </td>\n",
    "    </tr>\n",
    "    <tr style=\"border: none, text-align: center;\">\n",
    "        <td style=\"border: none; text-align: center;\" colspan=\"2\">\n",
    "            <img src=\"via_lattea_info.jpg\"/>\n",
    "        </td>\n",
    "    </tr>\n",
    "</table>"
   ]
  },
  {
   "attachments": {},
   "cell_type": "markdown",
   "metadata": {},
   "source": [
    "<h2>Il sole in scala</h2>\n",
    "<table style=\"border-collapse: collapse; border: none; overflow-x:auto;\">\n",
    "    <tr style=\"border: none, text-align: center;\">\n",
    "        <td style=\"border: none; text-align: center;\">\n",
    "            <img src=\"scale.jpg\"/>\n",
    "        </td>\n",
    "        <td style=\"border: none; text-align: left;\">\n",
    "            <ul>\n",
    "                <li>Il sistema solare è un granello di sabbia</li>\n",
    "                <li>La stella più vicina è a 10 metri</li>\n",
    "                <li>La via lattea, la nostra galassia è grande come gli stati uniti d'america</li>\n",
    "            </ul>      \n",
    "        </td>\n",
    "    </tr>\n",
    "</table>"
   ]
  },
  {
   "attachments": {},
   "cell_type": "markdown",
   "metadata": {},
   "source": [
    "<h1>Altre Galassie</h1>\n",
    "<ul>\n",
    "    <li>Spirale</li>\n",
    "    <li>Elittiche</li>\n",
    "    <li>Irregolari</li>\n",
    "</ul>\n",
    "<p style=\"text-align: center;\">\n",
    "    <img src=\"galassie.jpg\"/>\n",
    "</p>"
   ]
  },
  {
   "attachments": {},
   "cell_type": "markdown",
   "metadata": {},
   "source": [
    "<h1>Universo in scala</h1>\n",
    "<table style=\"border-collapse: collapse; border: none; overflow-x:auto;\">\n",
    "    <tr style=\"border: none, text-align: center;\">\n",
    "        <td style=\"border: none; text-align: center;\">\n",
    "            <img src=\"piatto.jpg\"/>\n",
    "        </td>\n",
    "        <td style=\"border: none; text-align: left;\">\n",
    "            <ul>\n",
    "                <li>La via Lattea è un piatto</li>\n",
    "                <li>La galassia più vicina è a di 10 metri</li>\n",
    "                <li>L'universo conosciuto è grande come gli stati uniti d'america</li>\n",
    "                <li>Stima Milliardi di galassie</li>\n",
    "            </ul>      \n",
    "        </td>\n",
    "    </tr>\n",
    "</table>"
   ]
  },
  {
   "attachments": {},
   "cell_type": "markdown",
   "metadata": {},
   "source": [
    "<h1>Nebulose e creazione stellare</h1>\n",
    "\n",
    "<h3>\n",
    "    Abrahamo 3:24\n",
    "</h3>\n",
    "<p>\n",
    "    24 E ve ne stava uno fra essi che era simile a Dio; ed egli disse a quelli che erano con lui: Noi scenderemo, poiché vi è dello spazio laggiù; e prenderemo di questi materiali e faremo una terra sulla quale costoro possano dimorare;\n",
    "</p>\n",
    "\n",
    "<p style=\"text-align: center;\">\n",
    "    <img src=\"creazione_stellare.jpg\" style=\"width: auto; height: auto;\"/><br><br>   \n",
    "</p> \n",
    "\n",
    "<p style=\"text-align: center;\">\n",
    "    <img src=\"tavola_periodica.png\" style=\"width: auto; height: auto;\"/><br><br>   \n",
    "</p> "
   ]
  },
  {
   "attachments": {},
   "cell_type": "markdown",
   "metadata": {},
   "source": [
    "<h1>Il nostro Creatore</h1>\n",
    "\n",
    "<table style=\"border-collapse: collapse; border: none; overflow-x:auto;\">\n",
    "    <tr style=\"border: none, text-align: center;\">\n",
    "        <td style=\"border: none; text-align: center;\">\n",
    "            <img src=\"jesus christ.jpg\"/>\n",
    "        </td>\n",
    "        <td style=\"border: none; text-align: left;\">\n",
    "            <h3>Marco 4:39</h3>\n",
    "            39 Ed egli, destatosi, sgridò il vento e disse al mare: Taci, calmati! E il vento cessò, e si fece gran bonaccia.\n",
    "            <h3>Matteo 8:2-3</h3>\n",
    "            2 Ed ecco un lebbroso, accostatosi, gli si prostrò dinanzi dicendo: Signore, se vuoi, tu puoi mondarmi.<br>\n",
    "            3 E Gesù, stesa la mano, lo toccò dicendo: Lo voglio, sii mondato. E in quell’istante egli fu mondato dalla sua lebbra.\n",
    "            <h3>Luca 5:24-25</h3>\n",
    "            24 Ora, affinché sappiate che il Figliuol dell’uomo ha sulla terra autorità di rimettere i peccati: Io tel dico (disse al paralitico), levati, togli il tuo lettuccio, e vattene a casa tua.<br>\n",
    "            25 E in quell’istante, alzatosi in presenza loro e preso il suo giaciglio, se ne andò a casa sua, glorificando Iddio.\n",
    "            <h3>DeA 76:22-24</h3>\n",
    "            22 Ed ora, dopo le numerose testimonianze che sono state date di lui, questa è la testimonianza, l’ultima di tutte, che diamo di lui: Che egli vive!<br>\n",
    "            23 Poiché lo vedemmo, sì, alla destra di Dio; e udimmo la voce che portava testimonianza che egli è il Figlio Unigenito del Padre —<br>\n",
    "            24 Che da lui, e tramite lui, e mediante lui, i mondi sono e furono creati, ed i loro abitanti sono generati figli e figlie per Dio.\n",
    "        </td>\n",
    "    </tr>\n",
    "</table>"
   ]
  },
  {
   "attachments": {},
   "cell_type": "markdown",
   "metadata": {},
   "source": [
    "<table style=\"border-collapse: collapse; border: none; overflow-x:auto;\">\n",
    "    <tr style=\"border: none, text-align: center;\">\n",
    "        <td style=\"border: none; text-align: center;\">\n",
    "            <img src=\"youriechiara.jpg\"/>\n",
    "        </td>\n",
    "        <td style=\"border: none; text-align: left;\">\n",
    "            Cercate il Salvatore mentre studiate la storia, la geografia, la matematica, la fisica, le scienze naturali, etc.., e vi prometto che troverete la Sua mano in moltie cose.<br>\n",
    "            Studiare è anche una atto di gratitudine per i nostri antenati che non hanno avuto le nostre stesse possibilità. Essi pregano per noi e per le nostre opportunità di crescita e progresso. Essi hanno bisogno anche del nostro aiuto.<br>\n",
    "            Il Signore vuole che viviamo una vita piena e felice. L’istruzione apre queste porte. Lui desidera il vostro successo sia sprituale che materiale. Per lui non c'è differenza.\n",
    "            <br>\n",
    "            Lui è il creatore, il nostro Salvatore, il nostro guaritore. Lui ha il potere sulla materia, sulla morte e la sulla resurrezione. Lui è anche il nostro esempio di rettò vivere.<br> Io so che il mio Redentore vive, mi ama e ama tutti voi.<br>\n",
    "            Oggi abbiamo assaporato qualche cosa delle Sue opere. Questa terra è la nostra casa. La nostra galassia ed il nostro sistema solare sono calibrati per fare funzionare la nostra casa, un luogo dove possiamo anche noi fare avverare la vita eterna e l’immortalità dell’uomo.<br>\n",
    "            <br>\n",
    "            <br> Vi vogliamo bene, nel nome di Gesù Cristo, Amen\n",
    "            <br><br>Youri Mazzina\n",
    "        </td>\n",
    "    </tr>    \n",
    "</table>"
   ]
  }
 ],
 "metadata": {
  "kernelspec": {
   "display_name": "Python 3.9.13 ('base')",
   "language": "python",
   "name": "python3"
  },
  "language_info": {
   "codemirror_mode": {
    "name": "ipython",
    "version": 3
   },
   "file_extension": ".py",
   "mimetype": "text/x-python",
   "name": "python",
   "nbconvert_exporter": "python",
   "pygments_lexer": "ipython3",
   "version": "3.8.3"
  },
  "vscode": {
   "interpreter": {
    "hash": "39f563043ff4a9855e79a49dc8e757de3e192ac59f15cb67520fb5e088168892"
   }
  }
 },
 "nbformat": 4,
 "nbformat_minor": 2
}
